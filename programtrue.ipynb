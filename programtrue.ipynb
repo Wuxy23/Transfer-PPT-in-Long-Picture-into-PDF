{
 "cells": [
  {
   "cell_type": "code",
   "execution_count": 29,
   "metadata": {},
   "outputs": [],
   "source": [
    "import glob\n",
    "import fitz\n",
    "import os\n",
    "from PyPDF2 import PdfFileReader, PdfFileWriter, PdfFileMerger\n",
    "import numpy as np\n",
    "import cv2\n",
    "import shutil"
   ]
  },
  {
   "cell_type": "code",
   "execution_count": 30,
   "metadata": {},
   "outputs": [],
   "source": [
    "def collect_filename(dir):\n",
    "    file = glob.glob(dir + '*.jpg')\n",
    "    filename = []\n",
    "    for i in file:\n",
    "        filename.append(i.replace('\\\\', '/'))\n",
    "    return filename"
   ]
  },
  {
   "cell_type": "code",
   "execution_count": 31,
   "metadata": {},
   "outputs": [],
   "source": [
    "def cut_title(file):##cut the useless title in the picture, the length of huawei p20 is 170\n",
    "    img = cv2.imread(file)\n",
    "    size = img.shape\n",
    "    cropped = img[int(size[1]/810*170):size[0], 0:size[1]]\n",
    "    if os.path.exists('picture/temporary/') == False:\n",
    "        os.mkdir('picture/temporary/')\n",
    "    cv2.imwrite('picture/temporary/' + 'a.jpg', cropped)"
   ]
  },
  {
   "cell_type": "code",
   "execution_count": 32,
   "metadata": {},
   "outputs": [],
   "source": [
    "def split_picture(filename = 'picture/temporary/a.jpg', storage_folder = 'picture/temporary/'):#the length in huawei p20 is 470\n",
    "    img = cv2.imread(filename)\n",
    "    size = img.shape\n",
    "    page = 1\n",
    "    ppt_length = int(size[1]/810*470)\n",
    "    while True:\n",
    "        cropped = img[ppt_length*(page-1):ppt_length*page, 0:size[1]]\n",
    "        cv2.imwrite(storage_folder + str(page) + '.jpg', cropped)\n",
    "        if ppt_length*page>size[0]:\n",
    "            break\n",
    "        page=page+1"
   ]
  },
  {
   "cell_type": "code",
   "execution_count": 33,
   "metadata": {},
   "outputs": [],
   "source": [
    "def pic_to_pdf(pdfname, picture_folder = 'picture/temporary/', storage_folder = 'pdf/'):\n",
    "    if os.path.exists(storage_folder + 'temporary/') == False:\n",
    "        os.mkdir(storage_folder + 'temporary/')\n",
    "    file = glob.glob(picture_folder+'*.jpg')\n",
    "    filename = []\n",
    "    for i in file:\n",
    "        filename.append(i.replace('\\\\', '/'))\n",
    "    filename.remove(picture_folder + 'a.jpg')\n",
    "    filename = sorted(filename, key= lambda x: int(x[len(picture_folder):-4]))\n",
    "    sort = 1\n",
    "    for img in filename:\n",
    "        doc = fitz.open()\n",
    "        imgdoc = fitz.open(img)\n",
    "        pdf = imgdoc.convert_to_pdf()\n",
    "        doc.insert_pdf(fitz.open('pdf', pdf))\n",
    "        doc.save(storage_folder+ 'temporary/' + str(sort) + '.pdf')\n",
    "        sort = sort + 1\n",
    "        doc.close()\n",
    "    pdf_file = glob.glob(storage_folder + 'temporary/' + '*.pdf')\n",
    "    pdf_filename = []\n",
    "    for i in pdf_file:\n",
    "        pdf_filename.append(i.replace('\\\\', '/'))\n",
    "    pdf_filename = sorted(pdf_filename, key= lambda x: int(x[len(storage_folder+ 'temporary/'):-4]))\n",
    "    pdf_merger = PdfFileMerger()\n",
    "    for pdf in pdf_filename:\n",
    "        f = open(pdf, 'rb')\n",
    "        pdf_merger.append(f)\n",
    "        f.close()\n",
    "    pdf_merger.write(storage_folder + pdfname + '.pdf')"
   ]
  },
  {
   "cell_type": "code",
   "execution_count": 34,
   "metadata": {},
   "outputs": [],
   "source": [
    "def remove_temporaryfile(trash_filename = ['picture/temporary/', 'pdf/temporary/']):\n",
    "    # picture_temporary_file = glob.glob(trash_filename[0]+'*.jpg')\n",
    "    # pdf_temporary_file = glob.glob(trash_filename[1])\n",
    "    shutil.rmtree(trash_filename[0])\n",
    "    shutil.rmtree(trash_filename[1])"
   ]
  },
  {
   "cell_type": "code",
   "execution_count": 36,
   "metadata": {},
   "outputs": [],
   "source": [
    "dir = 'picture/'\n",
    "for i in collect_filename(dir):\n",
    "    cut_title(i)\n",
    "    split_picture()\n",
    "    pic_to_pdf(i[len(dir):-4])\n",
    "    remove_temporaryfile()"
   ]
  },
  {
   "cell_type": "code",
   "execution_count": null,
   "metadata": {},
   "outputs": [],
   "source": []
  }
 ],
 "metadata": {
  "kernelspec": {
   "display_name": "Python 3.9.12 ('base')",
   "language": "python",
   "name": "python3"
  },
  "language_info": {
   "codemirror_mode": {
    "name": "ipython",
    "version": 3
   },
   "file_extension": ".py",
   "mimetype": "text/x-python",
   "name": "python",
   "nbconvert_exporter": "python",
   "pygments_lexer": "ipython3",
   "version": "3.9.12"
  },
  "orig_nbformat": 4,
  "vscode": {
   "interpreter": {
    "hash": "7538445a6124551e8e3ac615a818782c24ee730f377824a931990aae2d29dd95"
   }
  }
 },
 "nbformat": 4,
 "nbformat_minor": 2
}
